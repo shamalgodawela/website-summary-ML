{
 "cells": [
  {
   "cell_type": "code",
   "execution_count": 1,
   "id": "9795d89b-5512-4cb4-82e8-104dad3454ed",
   "metadata": {},
   "outputs": [],
   "source": [
    "import requests\n",
    "from bs4 import BeautifulSoup\n",
    "from IPython.display import Markdown, display\n",
    "import ollama"
   ]
  },
  {
   "cell_type": "code",
   "execution_count": 10,
   "id": "5c48c994-58ab-4224-a035-bb2d9d8cc4f9",
   "metadata": {},
   "outputs": [],
   "source": [
    "MODEL = \"llama3.2\""
   ]
  },
  {
   "cell_type": "code",
   "execution_count": 11,
   "id": "373b1d1c-521a-492f-8665-9d0a15d65a05",
   "metadata": {},
   "outputs": [],
   "source": [
    "# A class to represent a Webpage\n",
    "\n",
    "class Website:\n",
    "    \"\"\"\n",
    "    A utility class to represent a Website that we have scraped\n",
    "    \"\"\"\n",
    "    url: str\n",
    "    title: str\n",
    "    text: str\n",
    "\n",
    "    def __init__(self, url):\n",
    "        \"\"\"\n",
    "        Create this Website object from the given url using the BeautifulSoup library\n",
    "        \"\"\"\n",
    "        self.url = url\n",
    "        response = requests.get(url)\n",
    "        soup = BeautifulSoup(response.content, 'html.parser')\n",
    "        self.title = soup.title.string if soup.title else \"No title found\"\n",
    "        for irrelevant in soup.body([\"script\", \"style\", \"img\", \"input\"]):\n",
    "            irrelevant.decompose()\n",
    "        self.text = soup.body.get_text(separator=\"\\n\", strip=True)"
   ]
  },
  {
   "cell_type": "code",
   "execution_count": 12,
   "id": "2caab8b5-54ff-4108-849a-8601be2a9d65",
   "metadata": {},
   "outputs": [
    {
     "name": "stdout",
     "output_type": "stream",
     "text": [
      "Home - Edward Donner\n",
      "Home\n",
      "Connect Four\n",
      "Outsmart\n",
      "An arena that pits LLMs against each other in a battle of diplomacy and deviousness\n",
      "About\n",
      "Posts\n",
      "Well, hi there.\n",
      "I’m Ed. I like writing code and experimenting with LLMs, and hopefully you’re here because you do too. I also enjoy DJing (but I’m badly out of practice), amateur electronic music production (\n",
      "very\n",
      "amateur) and losing myself in\n",
      "Hacker News\n",
      ", nodding my head sagely to things I only half understand.\n",
      "I’m the co-founder and CTO of\n",
      "Nebula.io\n",
      ". We’re applying AI to a field where it can make a massive, positive impact: helping people discover their potential and pursue their reason for being. Recruiters use our product today to source, understand, engage and manage talent. I’m previously the founder and CEO of AI startup untapt,\n",
      "acquired in 2021\n",
      ".\n",
      "We work with groundbreaking, proprietary LLMs verticalized for talent, we’ve\n",
      "patented\n",
      "our matching model, and our award-winning platform has happy customers and tons of press coverage.\n",
      "Connect\n",
      "with me for more!\n",
      "January 23, 2025\n",
      "LLM Workshop – Hands-on with Agents – resources\n",
      "December 21, 2024\n",
      "Welcome, SuperDataScientists!\n",
      "November 13, 2024\n",
      "Mastering AI and LLM Engineering – Resources\n",
      "October 16, 2024\n",
      "From Software Engineer to AI Data Scientist – resources\n",
      "Navigation\n",
      "Home\n",
      "Connect Four\n",
      "Outsmart\n",
      "An arena that pits LLMs against each other in a battle of diplomacy and deviousness\n",
      "About\n",
      "Posts\n",
      "Get in touch\n",
      "ed [at] edwarddonner [dot] com\n",
      "www.edwarddonner.com\n",
      "Follow me\n",
      "LinkedIn\n",
      "Twitter\n",
      "Facebook\n",
      "Subscribe to newsletter\n",
      "Type your email…\n",
      "Subscribe\n"
     ]
    }
   ],
   "source": [
    "ed = Website(\"https://edwarddonner.com\")\n",
    "print(ed.title)\n",
    "print(ed.text)"
   ]
  },
  {
   "cell_type": "code",
   "execution_count": 13,
   "id": "8c879ff2-a1ea-47f1-812f-c85ab7f58dbc",
   "metadata": {},
   "outputs": [],
   "source": [
    "system_prompt = \"You are an assistant that analyzes the contents of a website \\\n",
    "and provides a short summary, ignoring text that might be navigation related. \\\n",
    "Respond in markdown.\""
   ]
  },
  {
   "cell_type": "code",
   "execution_count": 14,
   "id": "35259e79-3caf-45ac-8629-c7f4d4804dfe",
   "metadata": {},
   "outputs": [],
   "source": [
    "def user_prompt_for(website):\n",
    "    user_prompt = f\"You are looking at a website titled {website.title}\"\n",
    "    user_prompt += \"The contents of this website is as follows; \\\n",
    "please provide a short summary of this website in markdown. \\\n",
    "If it includes news or announcements, then summarize these too.\\n\\n\"\n",
    "    user_prompt += website.text\n",
    "    return user_prompt"
   ]
  },
  {
   "cell_type": "code",
   "execution_count": 15,
   "id": "64f7559e-d637-4ce0-a676-b7e39734659f",
   "metadata": {},
   "outputs": [],
   "source": [
    "def messages_for(website):\n",
    "    return [\n",
    "        {\"role\": \"system\", \"content\": system_prompt},\n",
    "        {\"role\": \"user\", \"content\": user_prompt_for(website)}\n",
    "    ]"
   ]
  },
  {
   "cell_type": "code",
   "execution_count": 16,
   "id": "827d5370-293c-4edf-a337-e06c53deb59b",
   "metadata": {},
   "outputs": [],
   "source": [
    "def summarize(url):\n",
    "    website = Website(url)\n",
    "    messages = messages_for(website)\n",
    "    response = ollama.chat(model=MODEL, messages=messages)\n",
    "    return response['message']['content']"
   ]
  },
  {
   "cell_type": "code",
   "execution_count": 17,
   "id": "c571f3cd-636b-464f-9785-433660a413c6",
   "metadata": {},
   "outputs": [
    {
     "data": {
      "text/plain": [
       "'### Website Summary: NIHON Agriculture Holdings\\n\\n#### Overview\\nNIHON Agriculture Holdings is a private limited company focused on providing various agricultural solutions, including crop nutrition, protection, seeds and planting materials, protected agriculture, irrigation, agri mechanization, and spices.\\n\\n#### Key Services\\n\\n*   **Crop Nutrition**: Providing essential nutrients for optimal crop growth.\\n*   **Crop Protection**: Offering solutions to protect crops from pests and diseases.\\n*   **Seeds and Planting Materials**: Supplying high-quality seeds and planting materials.\\n*   **Protected Agriculture**: Implementing techniques to prevent soil erosion and promote sustainable agriculture.\\n*   **Irrigation**: Providing efficient irrigation systems for optimal crop growth.\\n*   **Agri Mechanization**: Offering agricultural machinery solutions for increased productivity.\\n\\n#### Contact Information\\nNIHON Agriculture Holdings can be reached at:\\n\\n*   Phone: +94-777666802\\n*   Email: [info@nihon.nihonagholdings.com](mailto:info@nihon.nihonagholdings.com)\\n*   Address: No. 44 Weusiriuyana, Kalapitimulla Hunumulla.\\n\\n#### Social Media Presence\\nThe company invites visitors to follow them on various social media platforms for updates and news.'"
      ]
     },
     "execution_count": 17,
     "metadata": {},
     "output_type": "execute_result"
    }
   ],
   "source": [
    "summarize(\"https://www.nihonagholdings.com/\")"
   ]
  },
  {
   "cell_type": "code",
   "execution_count": 18,
   "id": "06e33aa7-c4fa-47f7-afa5-7b7fd6e35523",
   "metadata": {},
   "outputs": [],
   "source": [
    "def display_summary(url):\n",
    "    summary = summarize(url)\n",
    "    display(Markdown(summary))"
   ]
  },
  {
   "cell_type": "code",
   "execution_count": 20,
   "id": "2ceb1bf5-82c0-4562-8492-c6ef77ad6ee0",
   "metadata": {},
   "outputs": [
    {
     "data": {
      "text/markdown": [
       "**Summary of NIHON AGRICULTURE HOLDINGS PVT LTD**\n",
       "\n",
       "NIHON AGRICULTURE HOLDINGS PVT LTD is a comprehensive agriculture company with various services.\n",
       "\n",
       "### Services\n",
       "\n",
       "* **Crop Nutrition**: Providing nutrition solutions for crops.\n",
       "* **Crop Protection**: Offering protection measures against pests and diseases.\n",
       "* **Seeds and Planting Materials**: Distributing high-quality seeds and planting materials.\n",
       "* **Protected Agriculture**: Implementing advanced agricultural practices.\n",
       "* **Irrigation**: Designing and installing irrigation systems.\n",
       "* **Agri Mechanization**: Providing mechanized farming solutions.\n",
       "* **Spices**: Supplying spices and spice-related products.\n",
       "\n",
       "### Company Information\n",
       "\n",
       "The company has its registered office at:\n",
       "\n",
       "No. 44 Weusiriuyana, Kalapitimulla Hunumulla.\n",
       "\n",
       "Contact details:\n",
       "Phone: +94-777666802\n",
       "Email: info@nihon.nihonagholdings.com"
      ],
      "text/plain": [
       "<IPython.core.display.Markdown object>"
      ]
     },
     "metadata": {},
     "output_type": "display_data"
    }
   ],
   "source": [
    "display_summary(\"https://www.nihonagholdings.com/\")"
   ]
  },
  {
   "cell_type": "code",
   "execution_count": null,
   "id": "8929ed9d-835c-4b5f-bd92-c83dadefa45f",
   "metadata": {},
   "outputs": [],
   "source": []
  }
 ],
 "metadata": {
  "kernelspec": {
   "display_name": "Python 3 (ipykernel)",
   "language": "python",
   "name": "python3"
  },
  "language_info": {
   "codemirror_mode": {
    "name": "ipython",
    "version": 3
   },
   "file_extension": ".py",
   "mimetype": "text/x-python",
   "name": "python",
   "nbconvert_exporter": "python",
   "pygments_lexer": "ipython3",
   "version": "3.11.11"
  }
 },
 "nbformat": 4,
 "nbformat_minor": 5
}
